[![Open in Colab](https://colab.research.google.com/assets/colab-badge.svg)](https://colab.research.google.com/github/isanbai/cipta-ai-vault/blob/master/Course/Week08_RAG/prak8_langchain_llamaindex.ipynb)

# 📘 Notebook ini masih kosong.

Silakan isi sesuai petunjuk modul.md