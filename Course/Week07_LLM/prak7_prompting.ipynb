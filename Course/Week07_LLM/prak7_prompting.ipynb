[![Open in Colab](https://colab.research.google.com/assets/colab-badge.svg)](https://colab.research.google.com/github/isanbai/cipta-ai-vault/blob/master/Course/Week07_LLM/prak7_prompting.ipynb)

# 📘 Notebook ini masih kosong.

Silakan isi sesuai petunjuk modul.md