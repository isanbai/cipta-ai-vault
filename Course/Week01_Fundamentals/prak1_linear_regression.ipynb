[![Open in Colab](https://colab.research.google.com/assets/colab-badge.svg)](https://colab.research.google.com/github/isanbai/cipta-ai-vault/blob/master/Course/Week01_Fundamentals/prak1_linear_regression.ipynb)

# 📘 Notebook ini masih kosong.

Silakan isi sesuai petunjuk modul.md