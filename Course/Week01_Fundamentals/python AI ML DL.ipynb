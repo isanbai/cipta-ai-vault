{
 "cells": [
  {
   "cell_type": "markdown",
   "metadata": {},
   "source": [
    "[![Open in Colab](https://colab.research.google.com/assets/colab-badge.svg)](https://colab.research.google.com/github/isanbai/cipta-ai-vault/blob/master/Course/Week01_Fundamentals/prak1_linear_regression.ipynb)\n",
    "\n",
    "# 📘 Python AI ML DL.\n",
    "\n"
   ]
  },
  {
   "cell_type": "code",
   "execution_count": 2,
   "id": "fc5143af",
   "metadata": {},
   "outputs": [
    {
     "name": "stdout",
     "output_type": "stream",
     "text": [
      "Your favorite number plus 10 is 20\n",
      "How is your day going?\n",
      "Isabel is 4 dog years old.\n"
     ]
    }
   ],
   "source": [
    "# Follow up with an additional print command\n",
    "name = \"Otto Matic\"\n",
    "dog_age = 21/7\n",
    "\n",
    "fav_num = 10\n",
    "print(f\"Your favorite number plus 10 is {fav_num+10}\")\n",
    "print(\"How is your day going?\")\n",
    "print(f\"Isabel is {28/7:.0f} dog years old.\")"
   ]
  },
  {
   "cell_type": "code",
   "execution_count": null,
   "id": "6f965a66",
   "metadata": {},
   "outputs": [
    {
     "name": "stdout",
     "output_type": "stream",
     "text": [
      "1000\n"
     ]
    }
   ],
   "source": [
    "students_count = 1000  # integer\n",
    "rating = 4.99  # float\n",
    "is_published = True  # boolean\n",
    "course_name = \"Python Programming\"  # string\n",
    "print(students_count)"
   ]
  },
  {
   "cell_type": "code",
   "execution_count": null,
   "id": "c903b4cd",
   "metadata": {},
   "outputs": [
    {
     "name": "stdout",
     "output_type": "stream",
     "text": [
      "dict_keys(['dietary_restrictions', 'favorite_ingredients', 'experience_level', 'maximum_spice_level'])\n",
      "dict_values(['vegetarian', ['tofu', 'olives'], 'intermediate', 6])\n"
     ]
    }
   ],
   "source": [
    "# List and Dictionary\n",
    "ice_cream_flavors = [\n",
    "    \"Vanilla\",\n",
    "    \"Chocolate\",\n",
    "    \"Strawberry\",\n",
    "    \"Mint Chocolate Chip\"\n",
    "]\n",
    "for flavor in ice_cream_flavors:\n",
    "    prompt = f\"\"\"\n",
    "    For the ice cream flavor listed below, \n",
    "    provide a captivating description that could be used for promotional purposes.\n",
    "    Flavor: {flavor}\n",
    "    \"\"\"\n",
    "    # print_llm_response(prompt)\n",
    "\n",
    "food_preferences_tommy = {\n",
    "    \"dietary_restrictions\": \"vegetarian\",\n",
    "    \"favorite_ingredients\": [\"tofu\", \"olives\"],\n",
    "    \"experience_level\": \"intermediate\",\n",
    "    \"maximum_spice_level\": 6\n",
    "}\n",
    "print(food_preferences_tommy.keys())\n",
    "print(food_preferences_tommy.values())"
   ]
  },
  {
   "cell_type": "code",
   "execution_count": null,
   "id": "1860a686",
   "metadata": {},
   "outputs": [],
   "source": [
    "# defind function\n",
    "def fahrenheit_to_celsius(fahrenheit):\n",
    "    celsius = (fahrenheit - 32) * 5 / 9\n",
    "    print(f\"{fahrenheit}°F is equivalent to {celsius:.2f}°C\")\n",
    "\n",
    "# import method\n",
    "# from helper_functions import celsius_to_fahrenheit\n",
    "# from helper_functions import *\n",
    "# import helper_functions\n",
    "# helper_functions.print_llm_response(\"What is the capital of France?\")"
   ]
  },
  {
   "cell_type": "code",
   "execution_count": null,
   "id": "a76c023a",
   "metadata": {},
   "outputs": [],
   "source": [
    "# Pandas and Matplotlib\n",
    "# Dataset adapted from here https://www.kaggle.com/datasets/nehalbirla/vehicle-dataset-from-cardekho\n",
    "\n",
    "import matplotlib.pyplot as plt\n",
    "import pandas as pd\n",
    "data = pd.read_csv('car_data.csv')\n",
    "print(data)\n",
    "print(data[data[\"Price\"] >= 10000])\n",
    "filtered_data = data[data[\"Year\"] == 2015]\n",
    "print(filtered_data[\"Price\"].median())\n",
    "\n",
    "plt.title('Car Price vs. Kilometers Driven', fontsize=16)\n",
    "plt.xlabel('Kilometers Driven')\n",
    "plt.ylabel('Price (in USD)')\n",
    "# Add the grid\n",
    "plt.grid(True)\n",
    "# Display the plot\n",
    "plt.show()"
   ]
  },
  {
   "cell_type": "code",
   "execution_count": null,
   "id": "36aa7fcb",
   "metadata": {},
   "outputs": [],
   "source": [
    "!pip install bs4\n",
    "from bs4 import BeautifulSoup\n",
    "import requests # let's you download webpages into python\n",
    "from helper_functions import * \n",
    "from IPython.display import HTML, display\n",
    "\n",
    "# The url from one of the Batch's newsletter\n",
    "url = 'https://www.deeplearning.ai/the-batch/the-world-needs-more-intelligence/'\n",
    "\n",
    "# Getting the content from the webpage's contents\n",
    "response = requests.get(url)\n",
    "print(response)\n",
    "HTML(f'<iframe src={url} width=\"60%\" height=\"400\"></iframe>')\n",
    "\n",
    "# Using beautifulsoup to extract the text\n",
    "soup = BeautifulSoup(response.text, 'html.parser')\n",
    "all_text = soup.find_all('p')\n",
    "combined_text = \"\"\n",
    "for text in all_text:\n",
    "    combined_text = combined_text + \"\\n\" + text.get_text()\n",
    "\n",
    "print(combined_text)\n",
    "prompt = f\"\"\"\n",
    "Extract the key bullet points from the following text.\n",
    "Text:{combined_text}\n",
    "\"\"\"\n",
    "#print_llm_response(prompt)"
   ]
  },
  {
   "cell_type": "code",
   "execution_count": null,
   "id": "9b1d6cd1",
   "metadata": {},
   "outputs": [],
   "source": [
    "pip install python-dotenv\n",
    "import os\n",
    "import requests\n",
    "from aisetup import print_llm_response\n",
    "from dotenv import load_dotenv\n",
    "\n",
    "# Get the Weather API key from the .env file\n",
    "load_dotenv('.env', override=True)\n",
    "api_key = os.getenv('WEATHER_API_KEY')\n",
    "lat = -6.908856\n",
    "lon = 107.608710\n",
    "url = f\"https://api.openweathermap.org/data/2.5/forecast?units=metric&cnt=1&lat={lat}&lon={lon}&appid={api_key}\"\n",
    "response = requests.get(url, verify=False)\n",
    "data = response.json()\n",
    "feels_like = data['list'][0]['weather'][0]['description']\n",
    "city = data['city']['name']\n",
    "print(f\"The temperature currently feels like {feels_like}°C in {city}.\")\n",
    "\n",
    "import os\n",
    "from dotenv import load_dotenv\n",
    "from openai import OpenAI\n",
    "# Get the OpenAI API key from the .env file\n",
    "load_dotenv('.env', override=True)\n",
    "openai_api_key = os.getenv('OPENAI_API_KEY')\n",
    "client = OpenAI(api_key = openai_api_key)\n",
    "\n",
    "def get_llm_response(prompt):\n",
    "    completion = client.chat.completions.create(\n",
    "        model=\"gpt-4o-mini\",\n",
    "        messages=[\n",
    "            {\n",
    "                \"role\": \"system\",\n",
    "                \"content\": \"You are an AI assistant.\",\n",
    "            },\n",
    "            {\"role\": \"user\", \"content\": prompt},\n",
    "        ],\n",
    "        temperature=0.0,\n",
    "    )\n",
    "    response = completion.choices[0].message.content\n",
    "    return response\n",
    "    \n",
    "prompt = \"What is the capital of France?\"\n",
    "response = get_llm_response(prompt)\n",
    "print(response)"
   ]
  },
  {
   "cell_type": "code",
   "execution_count": null,
   "id": "1eefcb03",
   "metadata": {},
   "outputs": [],
   "source": []
  }
 ],
 "metadata": {
  "kernelspec": {
   "display_name": "Python 3",
   "language": "python",
   "name": "python3"
  },
  "language_info": {
   "codemirror_mode": {
    "name": "ipython",
    "version": 3
   },
   "file_extension": ".py",
   "mimetype": "text/x-python",
   "name": "python",
   "nbconvert_exporter": "python",
   "pygments_lexer": "ipython3",
   "version": "3.13.5"
  }
 },
 "nbformat": 4,
 "nbformat_minor": 5
}
