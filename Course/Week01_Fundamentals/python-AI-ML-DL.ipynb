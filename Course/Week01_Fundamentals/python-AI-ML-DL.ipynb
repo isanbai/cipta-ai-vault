{
  "cells": [
    {
      "cell_type": "markdown",
      "id": "e9978d3e",
      "metadata": {
        "colab_type": "text",
        "id": "view-in-github"
      },
      "source": [
        "<a href=\"https://colab.research.google.com/github/isanbai/cipta-ai-vault/blob/master/Course/Week01_Fundamentals/python-AI-ML-DL.ipynb\" target=\"_parent\"><img src=\"https://colab.research.google.com/assets/colab-badge.svg\" alt=\"Open In Colab\"/></a>"
      ]
    },
    {
      "cell_type": "code",
      "execution_count": null,
      "id": "fc5143af",
      "metadata": {
        "id": "fc5143af"
      },
      "outputs": [],
      "source": [
        "# Follow up with an additional print command\n",
        "name = \"Otto Matic\"\n",
        "dog_age = 21/7\n",
        "\n",
        "fav_num = 10\n",
        "print(f\"Your favorite number plus 10 is {fav_num+10}\")\n",
        "print(\"How is your day going?\")\n",
        "print(f\"Isabel is {28/7:.0f} dog years old.\")"
      ]
    },
    {
      "cell_type": "code",
      "execution_count": null,
      "id": "6f965a66",
      "metadata": {
        "colab": {
          "base_uri": "https://localhost:8080/"
        },
        "id": "6f965a66",
        "outputId": "b74828a8-dd2d-48af-edd5-dcb70a04a3f2"
      },
      "outputs": [
        {
          "name": "stdout",
          "output_type": "stream",
          "text": [
            "18\n",
            "g\n",
            "ython Programmin\n",
            "Pyt\n",
            "1000\n"
          ]
        }
      ],
      "source": [
        "students_count = 1000  # integer\n",
        "rating = 4.99  # float\n",
        "is_published = True  # boolean\n",
        "course_name = \"Python Programming\"  # string\n",
        "print(len(course_name))\n",
        "print(course_name[-1])\n",
        "print(course_name[1:-1])  # start - end index\n",
        "print(course_name[:3])\n",
        "print(students_count)"
      ]
    },
    {
      "cell_type": "code",
      "execution_count": null,
      "id": "t9ewCYSW-Ei8",
      "metadata": {
        "colab": {
          "base_uri": "https://localhost:8080/"
        },
        "id": "t9ewCYSW-Ei8",
        "outputId": "f41d0ee2-c69e-4472-c6ae-d9e0178b9fd2"
      },
      "outputs": [
        {
          "name": "stdout",
          "output_type": "stream",
          "text": [
            "isan bai\n",
            "4 4\n"
          ]
        }
      ],
      "source": [
        "# \\\" \\' \\\\ \\n\n",
        "course = \"Python \\'Programming\"\n",
        "first = \"isan\"\n",
        "last = \"bai\"\n",
        "full = f\"{first} {last}\"\n",
        "valid_exp = f\"{len(first)} {2 + 2}\"\n",
        "print(full)\n",
        "print(valid_exp)"
      ]
    },
    {
      "cell_type": "code",
      "execution_count": null,
      "id": "f3b254ff",
      "metadata": {
        "id": "f3b254ff",
        "outputId": "320ec947-ce97-4f1b-9860-504194be10e2"
      },
      "outputs": [
        {
          "name": "stdout",
          "output_type": "stream",
          "text": [
            "   PYTHON PROGRAMMING\n",
            "Python Programming\n",
            "-1\n",
            "   Jython Jrogramming\n",
            "True\n",
            "   Python Programming\n"
          ]
        }
      ],
      "source": [
        "# everything in python is object\n",
        "# object have function called method\n",
        "# method can accessed using dot . notation\n",
        "course = \"   Python Programming\"\n",
        "print(course.upper())\n",
        "print(course.strip())\n",
        "print(course.find(\"pro\"))\n",
        "print(course.replace(\"P\", \"J\"))\n",
        "print(\"pro\" not in course)\n",
        "print(course)"
      ]
    },
    {
      "cell_type": "code",
      "execution_count": null,
      "id": "5e622dbc",
      "metadata": {
        "id": "5e622dbc",
        "outputId": "8393c34b-4e3e-4b00-e1b6-632cc93ff78c"
      },
      "outputs": [
        {
          "name": "stdout",
          "output_type": "stream",
          "text": [
            "13\n",
            "7\n",
            "30\n",
            "3.3333333333333335\n",
            "3\n",
            "1\n",
            "1000\n",
            "13\n",
            "16\n",
            "3\n",
            "2.9\n",
            "3\n"
          ]
        }
      ],
      "source": [
        "# integer float\n",
        "import math\n",
        "x = 1\n",
        "x = 1.1\n",
        "x = 1 + 2j  # a + bi\n",
        "print(10+3)\n",
        "print(10-3)\n",
        "print(10*3)\n",
        "print(10/3)\n",
        "print(10//3)\n",
        "print(10 % 3)\n",
        "print(10**3)\n",
        "x = 10\n",
        "x = x+3\n",
        "print(x)\n",
        "x += 3\n",
        "print(x)\n",
        "print(round(2.9))\n",
        "print(abs(-2.9))\n",
        "print(math.ceil(2.2))"
      ]
    },
    {
      "cell_type": "code",
      "execution_count": null,
      "id": "36d1d8e9",
      "metadata": {
        "id": "36d1d8e9",
        "outputId": "59ebbb0f-e209-4e53-fa6c-f8fdd1b6a821"
      },
      "outputs": [
        {
          "name": "stdout",
          "output_type": "stream",
          "text": [
            "<class 'str'>\n",
            "x: 1, y: 2\n"
          ]
        },
        {
          "data": {
            "text/plain": [
              "False"
            ]
          },
          "execution_count": 19,
          "metadata": {},
          "output_type": "execute_result"
        }
      ],
      "source": [
        "x = input(\"x: \")  # string\n",
        "print(type(x))\n",
        "y = int(x) + 1\n",
        "print(f\"x: {x}, y: {y}\")\n",
        "\n",
        "# Falsy \"\" 0 None\n",
        "bool(0)"
      ]
    },
    {
      "cell_type": "code",
      "execution_count": null,
      "id": "96202f99",
      "metadata": {
        "id": "96202f99",
        "outputId": "d154ede4-29d5-4f66-86b7-0302c4bbdac1"
      },
      "outputs": [
        {
          "data": {
            "text/plain": [
              "98"
            ]
          },
          "execution_count": 23,
          "metadata": {},
          "output_type": "execute_result"
        }
      ],
      "source": [
        "10 >= 3\n",
        "ord(\"b\")"
      ]
    },
    {
      "cell_type": "code",
      "execution_count": null,
      "id": "674f0576",
      "metadata": {
        "id": "674f0576",
        "outputId": "0fcbc455-aa3a-482a-8583-c85eb4d9cd95"
      },
      "outputs": [
        {
          "name": "stdout",
          "output_type": "stream",
          "text": [
            "15\n",
            "Done\n",
            "Eligible\n",
            "Eligible Credit\n",
            "Eligible\n",
            "Eligible\n"
          ]
        }
      ],
      "source": [
        "# Conditional statement\n",
        "temperature = 15\n",
        "if temperature > 30:\n",
        "    print(\"it's warm\")\n",
        "    print(\"Drink water\")\n",
        "elif temperature > 20:\n",
        "    print(f\"It's {temperature}\")\n",
        "else:\n",
        "    print(temperature)\n",
        "print(\"Done\")  # end of indentation\n",
        "\n",
        "# Ternary operator\n",
        "age = 22\n",
        "if age >= 18:\n",
        "    message = \"Eligible\"\n",
        "else:\n",
        "    message = \"Not Eligible\"\n",
        "\n",
        "message = \"Eligible\" if age >= 18 else \"Not Eligible\"\n",
        "print(message)"
      ]
    },
    {
      "cell_type": "code",
      "execution_count": null,
      "id": "e9ac7e30",
      "metadata": {
        "id": "e9ac7e30",
        "outputId": "166347bf-17d4-4372-d3a3-d70888411877"
      },
      "outputs": [
        {
          "name": "stdout",
          "output_type": "stream",
          "text": [
            "Eligible Credit\n",
            "Eligible\n",
            "Eligible\n"
          ]
        }
      ],
      "source": [
        "# Logical operator and, or, not\n",
        "high_income = True\n",
        "good_credit = False\n",
        "student = False\n",
        "\n",
        "if high_income or good_credit:\n",
        "    print(\"Eligible Credit\")\n",
        "else:\n",
        "    print(\"Not Eligible\")\n",
        "\n",
        "if not student:\n",
        "    print(\"Eligible\")\n",
        "else:\n",
        "    print(\"Not Eligible\")\n",
        "\n",
        "if (high_income or good_credit) and not student:\n",
        "    print(\"Eligible\")\n",
        "\n",
        "# short circuit evaluation\n",
        "if high_income and good_credit and not student:\n",
        "    print(\"Eligible\")"
      ]
    },
    {
      "cell_type": "code",
      "execution_count": null,
      "id": "c2d3610d",
      "metadata": {
        "id": "c2d3610d",
        "outputId": "41039094-2595-4bed-a3bd-74b608752e25"
      },
      "outputs": [
        {
          "name": "stdout",
          "output_type": "stream",
          "text": [
            "Eligible\n",
            "Eligible\n"
          ]
        }
      ],
      "source": [
        "# Comparison Operator\n",
        "age = 22\n",
        "if age >= 18 and age < 65:\n",
        "    print(\"Eligible\")\n",
        "\n",
        "if 18 <= age < 65:\n",
        "    print(\"Eligible\")"
      ]
    },
    {
      "cell_type": "code",
      "execution_count": null,
      "id": "65e64c4f",
      "metadata": {
        "id": "65e64c4f",
        "outputId": "b790fc4e-c29d-45a6-f938-196fbef022ea"
      },
      "outputs": [
        {
          "name": "stdout",
          "output_type": "stream",
          "text": [
            "Attempt 0 \n",
            "Attempt 1 .\n",
            "Attempt 2 ..\n",
            "Sending a message\n",
            "Attempt 1 .\n",
            "Attempt 3 ...\n",
            "Attempt 5 .....\n",
            "Attempt 7 .......\n",
            "Attempt 9 .........\n",
            "Attempt\n",
            "Attempt\n",
            "Attempt\n",
            "Failed\n",
            "(0, 0)\n",
            "(0, 1)\n",
            "(0, 2)\n",
            "(1, 0)\n",
            "(1, 1)\n",
            "(1, 2)\n",
            "(2, 0)\n",
            "(2, 1)\n",
            "(2, 2)\n",
            "(3, 0)\n",
            "(3, 1)\n",
            "(3, 2)\n",
            "(4, 0)\n",
            "(4, 1)\n",
            "(4, 2)\n"
          ]
        }
      ],
      "source": [
        "# Loops\n",
        "for number in range(3):\n",
        "    print(\"Attempt\", number, number * \".\")\n",
        "print(\"Sending a message\")\n",
        "\n",
        "for number in range(1, 10, 2):  # start stop step\n",
        "    print(\"Attempt\", number, number * \".\")\n",
        "\n",
        "# For else\n",
        "successful = False\n",
        "for number in range(3):\n",
        "    print(\"Attempt\")\n",
        "    if successful:\n",
        "        print(\"Successful\")\n",
        "        break\n",
        "else:\n",
        "    print(\"Failed\")\n",
        "\n",
        "# Nested\n",
        "for x in range(5):\n",
        "    for y in range(3):\n",
        "        print(f\"({x}, {y})\")"
      ]
    },
    {
      "cell_type": "code",
      "execution_count": null,
      "id": "f72ae089",
      "metadata": {
        "id": "f72ae089",
        "outputId": "5824ec36-fb82-4f39-dd85-7d50900dd80a"
      },
      "outputs": [
        {
          "name": "stdout",
          "output_type": "stream",
          "text": [
            "<class 'range'>\n",
            "P\n",
            "y\n",
            "t\n",
            "h\n",
            "o\n",
            "n\n",
            "100\n",
            "50\n",
            "25\n",
            "12\n",
            "6\n",
            "3\n",
            "1\n",
            "ECHO QUIT\n"
          ]
        }
      ],
      "source": [
        "# Iteratble\n",
        "print(type(range(5)))\n",
        "for x in \"Python\":\n",
        "    print(x)\n",
        "\n",
        "# while\n",
        "number = 100\n",
        "while number > 0:\n",
        "    print(number)\n",
        "    number //= 2\n",
        "\n",
        "command = \"\"\n",
        "while command.lower() != \"quit\":\n",
        "    command = input(\"input:\")\n",
        "    print(\"ECHO\", command)\n",
        "\n",
        "# infinite\n",
        "while True:\n",
        "    command = input(\">\")\n",
        "    print(\"ECHO\", command)\n",
        "    if command.lower() == \"quit\":\n",
        "        break"
      ]
    },
    {
      "cell_type": "code",
      "execution_count": null,
      "id": "49546d6d",
      "metadata": {
        "id": "49546d6d",
        "outputId": "6bc72ee7-ffc5-450d-ce6e-009efa949482"
      },
      "outputs": [
        {
          "name": "stdout",
          "output_type": "stream",
          "text": [
            "2\n",
            "4\n",
            "6\n",
            "8\n",
            "we have 4 even number\n"
          ]
        }
      ],
      "source": [
        "count = 0\n",
        "for number in range(1, 10):\n",
        "    if number % 2 == 0:\n",
        "        count += 1\n",
        "        print(number)\n",
        "print(f\"we have {count} even number\")"
      ]
    },
    {
      "cell_type": "code",
      "execution_count": null,
      "id": "51c4feeb",
      "metadata": {
        "id": "51c4feeb",
        "outputId": "f986dc52-fca7-4c96-9edf-5ccf28549593"
      },
      "outputs": [
        {
          "name": "stdout",
          "output_type": "stream",
          "text": [
            "Hi isan bai\n",
            "Welcome\n",
            "Hi isan\n",
            "Hi isan bai\n",
            "Welcome\n",
            "None\n",
            "3\n",
            "120\n"
          ]
        },
        {
          "ename": "",
          "evalue": "",
          "output_type": "error",
          "traceback": [
            "\u001b[1;31mThe Kernel crashed while executing code in the current cell or a previous cell. \n",
            "\u001b[1;31mPlease review the code in the cell(s) to identify a possible cause of the failure. \n",
            "\u001b[1;31mClick <a href='https://aka.ms/vscodeJupyterKernelCrash'>here</a> for more info. \n",
            "\u001b[1;31mView Jupyter <a href='command:jupyter.viewOutput'>log</a> for further details."
          ]
        }
      ],
      "source": [
        "# function\n",
        "def greet(first_name, last_name):\n",
        "    print(f\"Hi {first_name} {last_name}\")\n",
        "    print(\"Welcome\")\n",
        "\n",
        "\n",
        "greet(\"isan\", \"bai\")\n",
        "\n",
        "\n",
        "def get_greeting(name):\n",
        "    return f\"Hi {name}\"\n",
        "\n",
        "\n",
        "message = get_greeting(\"isan\")\n",
        "print(message)\n",
        "print(greet(\"isan\", \"bai\"))\n",
        "\n",
        "# default args\n",
        "\n",
        "\n",
        "def increment(number, by=1):\n",
        "    return number + by\n",
        "\n",
        "\n",
        "print(increment(2))\n",
        "\n",
        "\n",
        "def multiply(*numbers):\n",
        "    total = 1\n",
        "    for number in numbers:\n",
        "        total *= number\n",
        "    return total\n",
        "\n",
        "\n",
        "print(multiply(2, 3, 4, 5))"
      ]
    },
    {
      "cell_type": "code",
      "execution_count": null,
      "id": "c903b4cd",
      "metadata": {
        "id": "c903b4cd",
        "outputId": "1aae98e8-5c49-437d-dfc9-ef384cd7eeb7"
      },
      "outputs": [
        {
          "name": "stdout",
          "output_type": "stream",
          "text": [
            "dict_keys(['dietary_restrictions', 'favorite_ingredients', 'experience_level', 'maximum_spice_level'])\n",
            "dict_values(['vegetarian', ['tofu', 'olives'], 'intermediate', 6])\n"
          ]
        }
      ],
      "source": [
        "# List and Dictionary\n",
        "ice_cream_flavors = [\n",
        "    \"Vanilla\",\n",
        "    \"Chocolate\",\n",
        "    \"Strawberry\",\n",
        "    \"Mint Chocolate Chip\"\n",
        "]\n",
        "for flavor in ice_cream_flavors:\n",
        "    prompt = f\"\"\"\n",
        "    For the ice cream flavor listed below,\n",
        "    provide a captivating description that could be used for promotional purposes.\n",
        "    Flavor: {flavor}\n",
        "    \"\"\"\n",
        "    # print_llm_response(prompt)\n",
        "\n",
        "food_preferences_tommy = {\n",
        "    \"dietary_restrictions\": \"vegetarian\",\n",
        "    \"favorite_ingredients\": [\"tofu\", \"olives\"],\n",
        "    \"experience_level\": \"intermediate\",\n",
        "    \"maximum_spice_level\": 6\n",
        "}\n",
        "print(food_preferences_tommy.keys())\n",
        "print(food_preferences_tommy.values())"
      ]
    },
    {
      "cell_type": "code",
      "execution_count": null,
      "id": "1860a686",
      "metadata": {
        "id": "1860a686"
      },
      "outputs": [],
      "source": [
        "# defind function\n",
        "def fahrenheit_to_celsius(fahrenheit):\n",
        "    celsius = (fahrenheit - 32) * 5 / 9\n",
        "    print(f\"{fahrenheit}°F is equivalent to {celsius:.2f}°C\")\n",
        "\n",
        "# import method\n",
        "# from helper_functions import celsius_to_fahrenheit\n",
        "# from helper_functions import *\n",
        "# import helper_functions\n",
        "# helper_functions.print_llm_response(\"What is the capital of France?\")"
      ]
    },
    {
      "cell_type": "code",
      "execution_count": null,
      "id": "a76c023a",
      "metadata": {
        "id": "a76c023a"
      },
      "outputs": [],
      "source": [
        "# Pandas and Matplotlib\n",
        "# Dataset adapted from here https://www.kaggle.com/datasets/nehalbirla/vehicle-dataset-from-cardekho\n",
        "\n",
        "import matplotlib.pyplot as plt\n",
        "import pandas as pd\n",
        "data = pd.read_csv('car_data.csv')\n",
        "print(data)\n",
        "print(data[data[\"Price\"] >= 10000])\n",
        "filtered_data = data[data[\"Year\"] == 2015]\n",
        "print(filtered_data[\"Price\"].median())\n",
        "\n",
        "plt.title('Car Price vs. Kilometers Driven', fontsize=16)\n",
        "plt.xlabel('Kilometers Driven')\n",
        "plt.ylabel('Price (in USD)')\n",
        "# Add the grid\n",
        "plt.grid(True)\n",
        "# Display the plot\n",
        "plt.show()"
      ]
    },
    {
      "cell_type": "code",
      "execution_count": null,
      "id": "36aa7fcb",
      "metadata": {
        "id": "36aa7fcb"
      },
      "outputs": [],
      "source": [
        "!pip install bs4\n",
        "from bs4 import BeautifulSoup\n",
        "import requests # let's you download webpages into python\n",
        "from helper_functions import *\n",
        "from IPython.display import HTML, display\n",
        "\n",
        "# The url from one of the Batch's newsletter\n",
        "url = 'https://www.deeplearning.ai/the-batch/the-world-needs-more-intelligence/'\n",
        "\n",
        "# Getting the content from the webpage's contents\n",
        "response = requests.get(url)\n",
        "print(response)\n",
        "HTML(f'<iframe src={url} width=\"60%\" height=\"400\"></iframe>')\n",
        "\n",
        "# Using beautifulsoup to extract the text\n",
        "soup = BeautifulSoup(response.text, 'html.parser')\n",
        "all_text = soup.find_all('p')\n",
        "combined_text = \"\"\n",
        "for text in all_text:\n",
        "    combined_text = combined_text + \"\\n\" + text.get_text()\n",
        "\n",
        "print(combined_text)\n",
        "prompt = f\"\"\"\n",
        "Extract the key bullet points from the following text.\n",
        "Text:{combined_text}\n",
        "\"\"\"\n",
        "#print_llm_response(prompt)"
      ]
    },
    {
      "cell_type": "code",
      "execution_count": null,
      "id": "9b1d6cd1",
      "metadata": {
        "id": "9b1d6cd1"
      },
      "outputs": [],
      "source": [
        "pip install python-dotenv\n",
        "import os\n",
        "import requests\n",
        "from aisetup import print_llm_response\n",
        "from dotenv import load_dotenv\n",
        "\n",
        "# Get the Weather API key from the .env file\n",
        "load_dotenv('.env', override=True)\n",
        "api_key = os.getenv('WEATHER_API_KEY')\n",
        "lat = -6.908856\n",
        "lon = 107.608710\n",
        "url = f\"https://api.openweathermap.org/data/2.5/forecast?units=metric&cnt=1&lat={lat}&lon={lon}&appid={api_key}\"\n",
        "response = requests.get(url, verify=False)\n",
        "data = response.json()\n",
        "feels_like = data['list'][0]['weather'][0]['description']\n",
        "city = data['city']['name']\n",
        "print(f\"The temperature currently feels like {feels_like}°C in {city}.\")\n",
        "\n",
        "import os\n",
        "from dotenv import load_dotenv\n",
        "from openai import OpenAI\n",
        "# Get the OpenAI API key from the .env file\n",
        "load_dotenv('.env', override=True)\n",
        "openai_api_key = os.getenv('OPENAI_API_KEY')\n",
        "client = OpenAI(api_key = openai_api_key)\n",
        "\n",
        "def get_llm_response(prompt):\n",
        "    completion = client.chat.completions.create(\n",
        "        model=\"gpt-4o-mini\",\n",
        "        messages=[\n",
        "            {\n",
        "                \"role\": \"system\",\n",
        "                \"content\": \"You are an AI assistant.\",\n",
        "            },\n",
        "            {\"role\": \"user\", \"content\": prompt},\n",
        "        ],\n",
        "        temperature=0.0,\n",
        "    )\n",
        "    response = completion.choices[0].message.content\n",
        "    return response\n",
        "\n",
        "prompt = \"What is the capital of France?\"\n",
        "response = get_llm_response(prompt)\n",
        "print(response)"
      ]
    },
    {
      "cell_type": "code",
      "execution_count": null,
      "id": "1eefcb03",
      "metadata": {
        "id": "1eefcb03"
      },
      "outputs": [
        {
          "name": "stdout",
          "output_type": "stream",
          "text": [
            "http://py4e-data.dr-chuck.net/known_by_Abdul.html\n",
            "http://py4e-data.dr-chuck.net/known_by_Maryk.html\n"
          ]
        }
      ],
      "source": [
        "import urllib.request\n",
        "import urllib.parse\n",
        "import urllib.error\n",
        "from bs4 import BeautifulSoup\n",
        "# defauts to certicate verification and most secure protocol (now TLS)\n",
        "import ssl\n",
        "\n",
        "# Ignore SSL/TLS certificate errors\n",
        "ctx = ssl.create_default_context()\n",
        "ctx.check_hostname = False\n",
        "ctx.verify_mode = ssl.CERT_NONE\n",
        "\n",
        "count = 1\n",
        "counts = int(input('Count:'))\n",
        "pos = int(input('Position:'))\n",
        "\n",
        "# Retrieve all of the anchor tags\n",
        "url = \"http://py4e-data.dr-chuck.net/known_by_Shanelle.html\"\n",
        "while count <= counts:\n",
        "    html = urllib.request.urlopen(url, context=ctx).read()\n",
        "    soup = BeautifulSoup(html, 'html.parser')\n",
        "    tags = soup('a')\n",
        "    data = tags[pos-1]\n",
        "    url = data.get('href', None)\n",
        "    print(url)\n",
        "    count += 1"
      ]
    },
    {
      "cell_type": "code",
      "execution_count": 14,
      "id": "53d7db2c",
      "metadata": {},
      "outputs": [
        {
          "name": "stdout",
          "output_type": "stream",
          "text": [
            "Retrieving http://py4e-data.dr-chuck.net/comments_2264603.xml\n",
            "Retrieved 4219 characters\n",
            "Sum: 2520\n"
          ]
        }
      ],
      "source": [
        "import urllib.request\n",
        "import xml.etree.ElementTree as ET\n",
        "\n",
        "url = input('Enter location: ')\n",
        "if len(url) < 1:\n",
        "    url = 'http://py4e-data.dr-chuck.net/comments_2264603.xml'\n",
        "\n",
        "print('Retrieving', url)\n",
        "uh = urllib.request.urlopen(url)\n",
        "data = uh.read()\n",
        "print('Retrieved', len(data), 'characters')\n",
        "tree = ET.fromstring(data)\n",
        "\n",
        "counts = tree.findall('.//count')\n",
        "nums = 0\n",
        "for result in counts:\n",
        "    num = int(result.text)\n",
        "    nums += num\n",
        "\n",
        "print('Sum:', nums)"
      ]
    },
    {
      "cell_type": "code",
      "execution_count": 9,
      "id": "43419564",
      "metadata": {},
      "outputs": [
        {
          "name": "stdout",
          "output_type": "stream",
          "text": [
            "[{'name': 'Zander', 'count': 100}, {'name': 'Sanjay', 'count': 98}, {'name': 'Lana', 'count': 98}, {'name': 'Stanislaw', 'count': 96}, {'name': 'Anabella', 'count': 80}, {'name': 'Bradan', 'count': 79}, {'name': 'Colm', 'count': 75}, {'name': 'Emil', 'count': 74}, {'name': 'Rylan', 'count': 74}, {'name': 'Bodhan', 'count': 70}, {'name': 'Eliska', 'count': 67}, {'name': 'Arshjoyat', 'count': 64}, {'name': 'Mehmet', 'count': 63}, {'name': 'Jaheim', 'count': 61}, {'name': 'Shyanne', 'count': 60}, {'name': 'Angus', 'count': 59}, {'name': 'Aidy', 'count': 57}, {'name': 'Tabetha', 'count': 56}, {'name': 'Giancarlo', 'count': 55}, {'name': 'Karley', 'count': 53}, {'name': 'Shanade', 'count': 53}, {'name': 'Kay', 'count': 50}, {'name': 'Sairah', 'count': 44}, {'name': 'Aeva', 'count': 44}, {'name': 'Sorley', 'count': 43}, {'name': 'Polly', 'count': 42}, {'name': 'Farisya', 'count': 34}, {'name': 'Kendyn', 'count': 31}, {'name': 'Riana', 'count': 31}, {'name': 'Jarno', 'count': 29}, {'name': 'Davis', 'count': 29}, {'name': 'Aidah', 'count': 29}, {'name': 'Nihaal', 'count': 23}, {'name': 'Mariesha', 'count': 23}, {'name': 'Hassanali', 'count': 17}, {'name': 'Kadyn', 'count': 16}, {'name': 'Zion', 'count': 15}, {'name': 'Gracielynn', 'count': 13}, {'name': 'Colvin', 'count': 12}, {'name': 'Darian', 'count': 11}, {'name': 'Sabila', 'count': 11}, {'name': 'Cailyne', 'count': 8}, {'name': 'Fraser', 'count': 7}, {'name': 'Neha', 'count': 7}, {'name': 'Laird', 'count': 7}, {'name': 'Kalena', 'count': 6}, {'name': 'Ame', 'count': 6}, {'name': 'Ayva', 'count': 4}, {'name': 'Skye', 'count': 4}, {'name': 'Kenzeigh', 'count': 2}]\n",
            "2090\n"
          ]
        }
      ],
      "source": [
        "import urllib.request\n",
        "import json\n",
        "\n",
        "url = 'http://py4e-data.dr-chuck.net/comments_2264604.json'\n",
        "data = urllib.request.urlopen(url).read()\n",
        "\n",
        "info = json.loads(data)\n",
        "print(info['comments'])\n",
        "sums = 0\n",
        "for items in info['comments']:\n",
        "    s = int(items['count'])\n",
        "    sums += s\n",
        "print(sums)"
      ]
    },
    {
      "cell_type": "code",
      "execution_count": null,
      "id": "0047f1da",
      "metadata": {},
      "outputs": [
        {
          "name": "stdout",
          "output_type": "stream",
          "text": [
            "Retrieving https://py4e-data.dr-chuck.net/opengeo?q=City+of+Westminster+College\n",
            "Retrieved 1552 characters {\"type\":\"FeatureColl\n",
            "9C3XGRCG+G2\n"
          ]
        }
      ],
      "source": [
        "import urllib.request\n",
        "import urllib.parse\n",
        "import json\n",
        "import ssl\n",
        "\n",
        "# Heavily rate limited proxy of https://www.geoapify.com/ api\n",
        "serviceurl = 'https://py4e-data.dr-chuck.net/opengeo?'\n",
        "\n",
        "# Ignore SSL certificate errors\n",
        "ctx = ssl.create_default_context()\n",
        "ctx.check_hostname = False\n",
        "ctx.verify_mode = ssl.CERT_NONE\n",
        "\n",
        "while True:\n",
        "    address = input('Enter location: ')\n",
        "    if len(address) < 1:\n",
        "        break\n",
        "\n",
        "    address = address.strip()\n",
        "    parms = dict()\n",
        "    parms['q'] = address\n",
        "\n",
        "    url = serviceurl + urllib.parse.urlencode(parms)\n",
        "\n",
        "    print('Retrieving', url)\n",
        "    uh = urllib.request.urlopen(url, context=ctx)\n",
        "    data = uh.read().decode()\n",
        "    print('Retrieved', len(data), 'characters', data[:20].replace('\\n', ' '))\n",
        "\n",
        "    try:\n",
        "        js = json.loads(data)\n",
        "    except:\n",
        "        js = None\n",
        "\n",
        "    if not js or 'features' not in js:\n",
        "        print('==== Download error ===')\n",
        "        print(data)\n",
        "        break\n",
        "\n",
        "    if len(js['features']) == 0:\n",
        "        print('==== Object not found ====')\n",
        "        print(data)\n",
        "        break\n",
        "\n",
        "    # print(json.dumps(js, indent=4))\n",
        "\n",
        "    # lat = js['features'][0]['properties']['lat']\n",
        "    # lon = js['features'][0]['properties']['lon']\n",
        "    # print('lat', lat, 'lon', lon)\n",
        "location = js['features'][0]['properties']['plus_code']\n",
        "print(location)"
      ]
    },
    {
      "cell_type": "code",
      "execution_count": null,
      "id": "b245f81c",
      "metadata": {},
      "outputs": [
        {
          "name": "stdout",
          "output_type": "stream",
          "text": [
            "cang constructed\n",
            "cang So Far 1\n",
            "Jim constructed\n",
            "destructed\n",
            "Jim So Far 1\n",
            "cang So Far 2\n",
            "destructed\n",
            "Jim constructed\n",
            "destructed\n",
            "Jim So Far 1\n",
            "Jim So Far 2\n",
            "Jim points 7\n"
          ]
        }
      ],
      "source": [
        "class PartyAnimal:\n",
        "    def __init__(self, z):\n",
        "        self.x = 0\n",
        "        self.name = z\n",
        "        print(self.name, \"constructed\")\n",
        "\n",
        "    def party(self):\n",
        "        self.x = self.x + 1\n",
        "        print(self.name, \"So Far\", self.x)\n",
        "\n",
        "    def __del__(self):\n",
        "        print(\"destructed\")\n",
        "\n",
        "\n",
        "c = PartyAnimal(\"cang\")\n",
        "c.party()\n",
        "j = PartyAnimal(\"Jim\")\n",
        "j.party()\n",
        "c.party()\n",
        "c = 42\n",
        "\n",
        "\n",
        "class FootballFan(PartyAnimal):\n",
        "    def __init__(self, z):\n",
        "        super().__init__(z)\n",
        "        self.points = 0\n",
        "\n",
        "    def touchdown(self):\n",
        "        self.points = self.points + 7\n",
        "        self.party()\n",
        "        print(self.name, \"points\", self.points)\n",
        "\n",
        "\n",
        "j = FootballFan(\"Jim\")\n",
        "j.party()\n",
        "j.touchdown()"
      ]
    },
    {
      "cell_type": "code",
      "execution_count": null,
      "id": "9bf4606a",
      "metadata": {},
      "outputs": [],
      "source": []
    }
  ],
  "metadata": {
    "colab": {
      "include_colab_link": true,
      "provenance": []
    },
    "kernelspec": {
      "display_name": "Python 3",
      "language": "python",
      "name": "python3"
    },
    "language_info": {
      "codemirror_mode": {
        "name": "ipython",
        "version": 3
      },
      "file_extension": ".py",
      "mimetype": "text/x-python",
      "name": "python",
      "nbconvert_exporter": "python",
      "pygments_lexer": "ipython3",
      "version": "3.13.5"
    }
  },
  "nbformat": 4,
  "nbformat_minor": 5
}
