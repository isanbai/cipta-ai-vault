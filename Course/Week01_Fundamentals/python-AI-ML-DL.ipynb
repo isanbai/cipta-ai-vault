{
  "cells": [
    {
      "cell_type": "markdown",
      "id": "-TWS3-Agu4ax",
      "metadata": {
        "id": "-TWS3-Agu4ax"
      },
      "source": [
        "[![Open in Colab](https://colab.research.google.com/assets/colab-badge.svg)](https://colab.research.google.com/github/isanbai/cipta-ai-vault/blob/master/Course/Week01_Fundamentals/prak1_linear_regression.ipynb)\n",
        "\n",
        "# 📘 Python AI ML DL.\n",
        "\n"
      ]
    },
    {
      "cell_type": "code",
      "execution_count": null,
      "id": "fc5143af",
      "metadata": {
        "id": "fc5143af",
        "outputId": "db9a5dd3-a0fd-437f-8b4b-515f3e856057"
      },
      "outputs": [
        {
          "name": "stdout",
          "output_type": "stream",
          "text": [
            "Your favorite number plus 10 is 20\n",
            "How is your day going?\n",
            "Isabel is 4 dog years old.\n"
          ]
        }
      ],
      "source": [
        "# Follow up with an additional print command\n",
        "name = \"Otto Matic\"\n",
        "dog_age = 21/7\n",
        "\n",
        "fav_num = 10\n",
        "print(f\"Your favorite number plus 10 is {fav_num+10}\")\n",
        "print(\"How is your day going?\")\n",
        "print(f\"Isabel is {28/7:.0f} dog years old.\")"
      ]
    },
    {
      "cell_type": "code",
      "execution_count": 20,
      "id": "6f965a66",
      "metadata": {
        "colab": {
          "base_uri": "https://localhost:8080/"
        },
        "id": "6f965a66",
        "outputId": "b74828a8-dd2d-48af-edd5-dcb70a04a3f2"
      },
      "outputs": [
        {
          "name": "stdout",
          "output_type": "stream",
          "text": [
            "18\n",
            "g\n",
            "ython Programmin\n",
            "Pyt\n",
            "1000\n"
          ]
        }
      ],
      "source": [
        "students_count = 1000  # integer\n",
        "rating = 4.99  # float\n",
        "is_published = True  # boolean\n",
        "course_name = \"Python Programming\"  # string\n",
        "print(len(course_name))\n",
        "print(course_name[-1])\n",
        "print(course_name[1:-1])  # start - end index\n",
        "print(course_name[:3])\n",
        "print(students_count)"
      ]
    },
    {
      "cell_type": "code",
      "execution_count": 2,
      "id": "t9ewCYSW-Ei8",
      "metadata": {
        "colab": {
          "base_uri": "https://localhost:8080/"
        },
        "id": "t9ewCYSW-Ei8",
        "outputId": "f41d0ee2-c69e-4472-c6ae-d9e0178b9fd2"
      },
      "outputs": [
        {
          "name": "stdout",
          "output_type": "stream",
          "text": [
            "isan bai\n",
            "4 4\n"
          ]
        }
      ],
      "source": [
        "# \\\" \\' \\\\ \\n\n",
        "course = \"Python \\'Programming\"\n",
        "first = \"isan\"\n",
        "last = \"bai\"\n",
        "full = f\"{first} {last}\"\n",
        "valid_exp = f\"{len(first)} {2 + 2}\"\n",
        "print(full)\n",
        "print(valid_exp)"
      ]
    },
    {
      "cell_type": "code",
      "execution_count": 9,
      "id": "f3b254ff",
      "metadata": {},
      "outputs": [
        {
          "name": "stdout",
          "output_type": "stream",
          "text": [
            "   PYTHON PROGRAMMING\n",
            "Python Programming\n",
            "-1\n",
            "   Jython Jrogramming\n",
            "True\n",
            "   Python Programming\n"
          ]
        }
      ],
      "source": [
        "# everything in python is object\n",
        "# object have function called method\n",
        "# method can accessed using dot . notation\n",
        "course = \"   Python Programming\"\n",
        "print(course.upper())\n",
        "print(course.strip())\n",
        "print(course.find(\"pro\"))\n",
        "print(course.replace(\"P\", \"J\"))\n",
        "print(\"pro\" not in course)\n",
        "print(course)"
      ]
    },
    {
      "cell_type": "code",
      "execution_count": 15,
      "id": "5e622dbc",
      "metadata": {},
      "outputs": [
        {
          "name": "stdout",
          "output_type": "stream",
          "text": [
            "13\n",
            "7\n",
            "30\n",
            "3.3333333333333335\n",
            "3\n",
            "1\n",
            "1000\n",
            "13\n",
            "16\n",
            "3\n",
            "2.9\n",
            "3\n"
          ]
        }
      ],
      "source": [
        "# integer float\n",
        "import math\n",
        "x = 1\n",
        "x = 1.1\n",
        "x = 1 + 2j  # a + bi\n",
        "print(10+3)\n",
        "print(10-3)\n",
        "print(10*3)\n",
        "print(10/3)\n",
        "print(10//3)\n",
        "print(10 % 3)\n",
        "print(10**3)\n",
        "x = 10\n",
        "x = x+3\n",
        "print(x)\n",
        "x += 3\n",
        "print(x)\n",
        "print(round(2.9))\n",
        "print(abs(-2.9))\n",
        "print(math.ceil(2.2))"
      ]
    },
    {
      "cell_type": "code",
      "execution_count": null,
      "id": "36d1d8e9",
      "metadata": {},
      "outputs": [
        {
          "name": "stdout",
          "output_type": "stream",
          "text": [
            "<class 'str'>\n",
            "x: 1, y: 2\n"
          ]
        },
        {
          "data": {
            "text/plain": [
              "False"
            ]
          },
          "execution_count": 19,
          "metadata": {},
          "output_type": "execute_result"
        }
      ],
      "source": [
        "x = input(\"x: \")  # string\n",
        "print(type(x))\n",
        "y = int(x) + 1\n",
        "print(f\"x: {x}, y: {y}\")\n",
        "\n",
        "# Falsy \"\" 0 None\n",
        "bool(0)"
      ]
    },
    {
      "cell_type": "code",
      "execution_count": 23,
      "id": "96202f99",
      "metadata": {},
      "outputs": [
        {
          "data": {
            "text/plain": [
              "98"
            ]
          },
          "execution_count": 23,
          "metadata": {},
          "output_type": "execute_result"
        }
      ],
      "source": [
        "10 >= 3\n",
        "ord(\"b\")"
      ]
    },
    {
      "cell_type": "code",
      "execution_count": null,
      "id": "674f0576",
      "metadata": {},
      "outputs": [
        {
          "name": "stdout",
          "output_type": "stream",
          "text": [
            "15\n",
            "Done\n",
            "Eligible\n",
            "Eligible Credit\n",
            "Eligible\n",
            "Eligible\n"
          ]
        }
      ],
      "source": [
        "# Conditional statement\n",
        "temperature = 15\n",
        "if temperature > 30:\n",
        "    print(\"it's warm\")\n",
        "    print(\"Drink water\")\n",
        "elif temperature > 20:\n",
        "    print(f\"It's {temperature}\")\n",
        "else:\n",
        "    print(temperature)\n",
        "print(\"Done\")  # end of indentation\n",
        "\n",
        "# Ternary operator\n",
        "age = 22\n",
        "if age >= 18:\n",
        "    message = \"Eligible\"\n",
        "else:\n",
        "    message = \"Not Eligible\"\n",
        "\n",
        "message = \"Eligible\" if age >= 18 else \"Not Eligible\"\n",
        "print(message)"
      ]
    },
    {
      "cell_type": "code",
      "execution_count": null,
      "id": "e9ac7e30",
      "metadata": {},
      "outputs": [
        {
          "name": "stdout",
          "output_type": "stream",
          "text": [
            "Eligible Credit\n",
            "Eligible\n",
            "Eligible\n"
          ]
        }
      ],
      "source": [
        "# Logical operator and, or, not\n",
        "high_income = True\n",
        "good_credit = False\n",
        "student = False\n",
        "\n",
        "if high_income or good_credit:\n",
        "    print(\"Eligible Credit\")\n",
        "else:\n",
        "    print(\"Not Eligible\")\n",
        "\n",
        "if not student:\n",
        "    print(\"Eligible\")\n",
        "else:\n",
        "    print(\"Not Eligible\")\n",
        "\n",
        "if (high_income or good_credit) and not student:\n",
        "    print(\"Eligible\")\n",
        "\n",
        "# short circuit evaluation\n",
        "if high_income and good_credit and not student:\n",
        "    print(\"Eligible\")"
      ]
    },
    {
      "cell_type": "code",
      "execution_count": null,
      "id": "c2d3610d",
      "metadata": {},
      "outputs": [
        {
          "name": "stdout",
          "output_type": "stream",
          "text": [
            "Eligible\n",
            "Eligible\n"
          ]
        }
      ],
      "source": [
        "# Comparison Operator\n",
        "age = 22\n",
        "if age >= 18 and age < 65:\n",
        "    print(\"Eligible\")\n",
        "\n",
        "if 18 <= age < 65:\n",
        "    print(\"Eligible\")"
      ]
    },
    {
      "cell_type": "code",
      "execution_count": null,
      "id": "65e64c4f",
      "metadata": {},
      "outputs": [
        {
          "name": "stdout",
          "output_type": "stream",
          "text": [
            "Attempt 0 \n",
            "Attempt 1 .\n",
            "Attempt 2 ..\n",
            "Sending a message\n",
            "Attempt 1 .\n",
            "Attempt 3 ...\n",
            "Attempt 5 .....\n",
            "Attempt 7 .......\n",
            "Attempt 9 .........\n",
            "Attempt\n",
            "Attempt\n",
            "Attempt\n",
            "Failed\n",
            "(0, 0)\n",
            "(0, 1)\n",
            "(0, 2)\n",
            "(1, 0)\n",
            "(1, 1)\n",
            "(1, 2)\n",
            "(2, 0)\n",
            "(2, 1)\n",
            "(2, 2)\n",
            "(3, 0)\n",
            "(3, 1)\n",
            "(3, 2)\n",
            "(4, 0)\n",
            "(4, 1)\n",
            "(4, 2)\n"
          ]
        }
      ],
      "source": [
        "# Loops\n",
        "for number in range(3):\n",
        "    print(\"Attempt\", number, number * \".\")\n",
        "print(\"Sending a message\")\n",
        "\n",
        "for number in range(1, 10, 2):  # start stop step\n",
        "    print(\"Attempt\", number, number * \".\")\n",
        "\n",
        "# For else\n",
        "successful = False\n",
        "for number in range(3):\n",
        "    print(\"Attempt\")\n",
        "    if successful:\n",
        "        print(\"Successful\")\n",
        "        break\n",
        "else:\n",
        "    print(\"Failed\")\n",
        "\n",
        "# Nested\n",
        "for x in range(5):\n",
        "    for y in range(3):\n",
        "        print(f\"({x}, {y})\")"
      ]
    },
    {
      "cell_type": "code",
      "execution_count": null,
      "id": "f72ae089",
      "metadata": {},
      "outputs": [
        {
          "name": "stdout",
          "output_type": "stream",
          "text": [
            "<class 'range'>\n",
            "P\n",
            "y\n",
            "t\n",
            "h\n",
            "o\n",
            "n\n",
            "100\n",
            "50\n",
            "25\n",
            "12\n",
            "6\n",
            "3\n",
            "1\n",
            "ECHO QUIT\n"
          ]
        }
      ],
      "source": [
        "# Iteratble\n",
        "print(type(range(5)))\n",
        "for x in \"Python\":\n",
        "    print(x)\n",
        "\n",
        "# while\n",
        "number = 100\n",
        "while number > 0:\n",
        "    print(number)\n",
        "    number //= 2\n",
        "\n",
        "command = \"\"\n",
        "while command.lower() != \"quit\":\n",
        "    command = input(\"input:\")\n",
        "    print(\"ECHO\", command)\n",
        "\n",
        "# infinite\n",
        "while True:\n",
        "    command = input(\">\")\n",
        "    print(\"ECHO\", command)\n",
        "    if command.lower() == \"quit\":\n",
        "        break"
      ]
    },
    {
      "cell_type": "code",
      "execution_count": null,
      "id": "c903b4cd",
      "metadata": {
        "id": "c903b4cd",
        "outputId": "1aae98e8-5c49-437d-dfc9-ef384cd7eeb7"
      },
      "outputs": [
        {
          "name": "stdout",
          "output_type": "stream",
          "text": [
            "dict_keys(['dietary_restrictions', 'favorite_ingredients', 'experience_level', 'maximum_spice_level'])\n",
            "dict_values(['vegetarian', ['tofu', 'olives'], 'intermediate', 6])\n"
          ]
        }
      ],
      "source": [
        "# List and Dictionary\n",
        "ice_cream_flavors = [\n",
        "    \"Vanilla\",\n",
        "    \"Chocolate\",\n",
        "    \"Strawberry\",\n",
        "    \"Mint Chocolate Chip\"\n",
        "]\n",
        "for flavor in ice_cream_flavors:\n",
        "    prompt = f\"\"\"\n",
        "    For the ice cream flavor listed below,\n",
        "    provide a captivating description that could be used for promotional purposes.\n",
        "    Flavor: {flavor}\n",
        "    \"\"\"\n",
        "    # print_llm_response(prompt)\n",
        "\n",
        "food_preferences_tommy = {\n",
        "    \"dietary_restrictions\": \"vegetarian\",\n",
        "    \"favorite_ingredients\": [\"tofu\", \"olives\"],\n",
        "    \"experience_level\": \"intermediate\",\n",
        "    \"maximum_spice_level\": 6\n",
        "}\n",
        "print(food_preferences_tommy.keys())\n",
        "print(food_preferences_tommy.values())"
      ]
    },
    {
      "cell_type": "code",
      "execution_count": null,
      "id": "1860a686",
      "metadata": {
        "id": "1860a686"
      },
      "outputs": [],
      "source": [
        "# defind function\n",
        "def fahrenheit_to_celsius(fahrenheit):\n",
        "    celsius = (fahrenheit - 32) * 5 / 9\n",
        "    print(f\"{fahrenheit}°F is equivalent to {celsius:.2f}°C\")\n",
        "\n",
        "# import method\n",
        "# from helper_functions import celsius_to_fahrenheit\n",
        "# from helper_functions import *\n",
        "# import helper_functions\n",
        "# helper_functions.print_llm_response(\"What is the capital of France?\")"
      ]
    },
    {
      "cell_type": "code",
      "execution_count": null,
      "id": "a76c023a",
      "metadata": {
        "id": "a76c023a"
      },
      "outputs": [],
      "source": [
        "# Pandas and Matplotlib\n",
        "# Dataset adapted from here https://www.kaggle.com/datasets/nehalbirla/vehicle-dataset-from-cardekho\n",
        "\n",
        "import matplotlib.pyplot as plt\n",
        "import pandas as pd\n",
        "data = pd.read_csv('car_data.csv')\n",
        "print(data)\n",
        "print(data[data[\"Price\"] >= 10000])\n",
        "filtered_data = data[data[\"Year\"] == 2015]\n",
        "print(filtered_data[\"Price\"].median())\n",
        "\n",
        "plt.title('Car Price vs. Kilometers Driven', fontsize=16)\n",
        "plt.xlabel('Kilometers Driven')\n",
        "plt.ylabel('Price (in USD)')\n",
        "# Add the grid\n",
        "plt.grid(True)\n",
        "# Display the plot\n",
        "plt.show()"
      ]
    },
    {
      "cell_type": "code",
      "execution_count": null,
      "id": "36aa7fcb",
      "metadata": {
        "id": "36aa7fcb"
      },
      "outputs": [],
      "source": [
        "!pip install bs4\n",
        "from bs4 import BeautifulSoup\n",
        "import requests # let's you download webpages into python\n",
        "from helper_functions import *\n",
        "from IPython.display import HTML, display\n",
        "\n",
        "# The url from one of the Batch's newsletter\n",
        "url = 'https://www.deeplearning.ai/the-batch/the-world-needs-more-intelligence/'\n",
        "\n",
        "# Getting the content from the webpage's contents\n",
        "response = requests.get(url)\n",
        "print(response)\n",
        "HTML(f'<iframe src={url} width=\"60%\" height=\"400\"></iframe>')\n",
        "\n",
        "# Using beautifulsoup to extract the text\n",
        "soup = BeautifulSoup(response.text, 'html.parser')\n",
        "all_text = soup.find_all('p')\n",
        "combined_text = \"\"\n",
        "for text in all_text:\n",
        "    combined_text = combined_text + \"\\n\" + text.get_text()\n",
        "\n",
        "print(combined_text)\n",
        "prompt = f\"\"\"\n",
        "Extract the key bullet points from the following text.\n",
        "Text:{combined_text}\n",
        "\"\"\"\n",
        "#print_llm_response(prompt)"
      ]
    },
    {
      "cell_type": "code",
      "execution_count": null,
      "id": "9b1d6cd1",
      "metadata": {
        "id": "9b1d6cd1"
      },
      "outputs": [],
      "source": [
        "pip install python-dotenv\n",
        "import os\n",
        "import requests\n",
        "from aisetup import print_llm_response\n",
        "from dotenv import load_dotenv\n",
        "\n",
        "# Get the Weather API key from the .env file\n",
        "load_dotenv('.env', override=True)\n",
        "api_key = os.getenv('WEATHER_API_KEY')\n",
        "lat = -6.908856\n",
        "lon = 107.608710\n",
        "url = f\"https://api.openweathermap.org/data/2.5/forecast?units=metric&cnt=1&lat={lat}&lon={lon}&appid={api_key}\"\n",
        "response = requests.get(url, verify=False)\n",
        "data = response.json()\n",
        "feels_like = data['list'][0]['weather'][0]['description']\n",
        "city = data['city']['name']\n",
        "print(f\"The temperature currently feels like {feels_like}°C in {city}.\")\n",
        "\n",
        "import os\n",
        "from dotenv import load_dotenv\n",
        "from openai import OpenAI\n",
        "# Get the OpenAI API key from the .env file\n",
        "load_dotenv('.env', override=True)\n",
        "openai_api_key = os.getenv('OPENAI_API_KEY')\n",
        "client = OpenAI(api_key = openai_api_key)\n",
        "\n",
        "def get_llm_response(prompt):\n",
        "    completion = client.chat.completions.create(\n",
        "        model=\"gpt-4o-mini\",\n",
        "        messages=[\n",
        "            {\n",
        "                \"role\": \"system\",\n",
        "                \"content\": \"You are an AI assistant.\",\n",
        "            },\n",
        "            {\"role\": \"user\", \"content\": prompt},\n",
        "        ],\n",
        "        temperature=0.0,\n",
        "    )\n",
        "    response = completion.choices[0].message.content\n",
        "    return response\n",
        "\n",
        "prompt = \"What is the capital of France?\"\n",
        "response = get_llm_response(prompt)\n",
        "print(response)"
      ]
    },
    {
      "cell_type": "code",
      "execution_count": null,
      "id": "1eefcb03",
      "metadata": {
        "id": "1eefcb03"
      },
      "outputs": [],
      "source": []
    }
  ],
  "metadata": {
    "colab": {
      "provenance": []
    },
    "kernelspec": {
      "display_name": "Python 3",
      "language": "python",
      "name": "python3"
    },
    "language_info": {
      "codemirror_mode": {
        "name": "ipython",
        "version": 3
      },
      "file_extension": ".py",
      "mimetype": "text/x-python",
      "name": "python",
      "nbconvert_exporter": "python",
      "pygments_lexer": "ipython3",
      "version": "3.13.5"
    }
  },
  "nbformat": 4,
  "nbformat_minor": 5
}
